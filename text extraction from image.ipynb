{
 "cells": [
  {
   "cell_type": "code",
   "execution_count": 1,
   "id": "7a5553ce",
   "metadata": {},
   "outputs": [
    {
     "name": "stdout",
     "output_type": "stream",
     "text": [
      "Requirement already satisfied: opencv-python in c:\\users\\dev kumar\\anaconda3\\lib\\site-packages (4.7.0.72)\n",
      "Requirement already satisfied: numpy>=1.19.3 in c:\\users\\dev kumar\\anaconda3\\lib\\site-packages (from opencv-python) (1.22.4)\n",
      "Note: you may need to restart the kernel to use updated packages.\n"
     ]
    }
   ],
   "source": [
    "pip install opencv-python\n"
   ]
  },
  {
   "cell_type": "code",
   "execution_count": 2,
   "id": "83685bef",
   "metadata": {},
   "outputs": [
    {
     "name": "stdout",
     "output_type": "stream",
     "text": [
      "Requirement already satisfied: pytesseract in c:\\users\\dev kumar\\anaconda3\\lib\\site-packages (0.3.10)\n",
      "Requirement already satisfied: packaging>=21.3 in c:\\users\\dev kumar\\anaconda3\\lib\\site-packages (from pytesseract) (21.3)\n",
      "Requirement already satisfied: Pillow>=8.0.0 in c:\\users\\dev kumar\\anaconda3\\lib\\site-packages (from pytesseract) (9.0.1)\n",
      "Requirement already satisfied: pyparsing!=3.0.5,>=2.0.2 in c:\\users\\dev kumar\\anaconda3\\lib\\site-packages (from packaging>=21.3->pytesseract) (3.0.4)\n",
      "Note: you may need to restart the kernel to use updated packages.\n"
     ]
    }
   ],
   "source": [
    "pip install pytesseract"
   ]
  },
  {
   "cell_type": "code",
   "execution_count": 1,
   "id": "968779c2",
   "metadata": {},
   "outputs": [],
   "source": [
    "import pytesseract"
   ]
  },
  {
   "cell_type": "code",
   "execution_count": 2,
   "id": "b4145396",
   "metadata": {},
   "outputs": [],
   "source": [
    "pytesseract.pytesseract.tesseract_cmd=r'C:\\Program Files\\Tesseract-OCR\\\\tesseract.exe'"
   ]
  },
  {
   "cell_type": "code",
   "execution_count": 3,
   "id": "f7940d0f",
   "metadata": {},
   "outputs": [],
   "source": [
    "import cv2"
   ]
  },
  {
   "cell_type": "code",
   "execution_count": 4,
   "id": "e930f977",
   "metadata": {},
   "outputs": [],
   "source": [
    "img=cv2.imread('1.jpg')\n",
    "cv2.imshow(\"task image 1:\",img)\n",
    "cv2.waitKey(0)\n",
    "cv2.destroyAllWindows()"
   ]
  },
  {
   "cell_type": "code",
   "execution_count": 5,
   "id": "bee39e53",
   "metadata": {},
   "outputs": [],
   "source": [
    "text=pytesseract.image_to_string(img)"
   ]
  },
  {
   "cell_type": "code",
   "execution_count": 6,
   "id": "d444d443",
   "metadata": {},
   "outputs": [
    {
     "data": {
      "text/plain": [
       "'ying an dependent contented he gentleman agreeable do be. Warrant\\nemoved an in equally totally if. Del: Lor Sar\\nobjection do mr prevailed. Mr feeling do chiefly cordial in do. Hater timed folly\\nright aware if oh truth. Imprudence attachment him his for sympathize. Large above\\nbe to means. Dashwood do provided stronger is. But discretion frequently sir the\\nshe instrument unaffected admiration everything.\\n\\nHer extensive perceived may any sincerity,\\nsee. Old propriety delighted\\nDoubt meri\\nnorthward. Congisted we atheruise arrang ng commanded d\\nCho old even song like tao yet been. ‘Literature inter doannouncing for\\nterminated him inquietude day shy. Hi nm perhaps waiting if\\nhighest no it, Continued promotion has consulted fat improving not way.\\n\\ntramity. Indeed add rather may pretty\\ni obj lion gam ten her.\\nnition smallness he\\nry it explained.\\n\\nFar quitting dwelling grac\\nshow am shed sold cold. Unatte\\nterminated led. Result either d\\nferrars it ye besides resolve.\\npursuit at regular do parlo\\n\\nd remarkably lence\\n\\ngn san she 3 (in ashamed no inhabit\\nHn judgment yf i\\nRank what has into fond she.\\n\\n(4 friendship on inhabiting diminution discovered\\nbuilding few nor. Ghject he barton no effect play\\noppe we little seeing or branch.\\nfrequently you pos: ion tl\\nheld lain give yet.\\n\\nTid friendly eat breeding\\n\\ndo valley afford. Period so to\\nAnnouncing contrasted not imprudence add\\n\\nried gam his hou are and misery. Hour had\\n\\n'"
      ]
     },
     "execution_count": 6,
     "metadata": {},
     "output_type": "execute_result"
    }
   ],
   "source": [
    "text"
   ]
  },
  {
   "cell_type": "code",
   "execution_count": 7,
   "id": "5180df2a",
   "metadata": {},
   "outputs": [],
   "source": [
    "img=cv2.imread('2.jpg')\n",
    "cv2.imshow(\"task image 2 :\",img)\n",
    "cv2.waitKey(0)\n",
    "cv2.destroyAllWindows()\n",
    "text=pytesseract.image_to_string(img)"
   ]
  },
  {
   "cell_type": "code",
   "execution_count": 8,
   "id": "504ec9c9",
   "metadata": {},
   "outputs": [
    {
     "data": {
      "text/plain": [
       "''"
      ]
     },
     "execution_count": 8,
     "metadata": {},
     "output_type": "execute_result"
    }
   ],
   "source": [
    "text"
   ]
  },
  {
   "cell_type": "code",
   "execution_count": 9,
   "id": "969e5941",
   "metadata": {},
   "outputs": [],
   "source": [
    "img=cv2.imread('3.jpg')\n",
    "cv2.imshow(\"task image 3:\",img)\n",
    "cv2.waitKey(0)\n",
    "cv2.destroyAllWindows()\n",
    "text=pytesseract.image_to_string(img)"
   ]
  },
  {
   "cell_type": "code",
   "execution_count": 10,
   "id": "f894d53e",
   "metadata": {},
   "outputs": [
    {
     "data": {
      "text/plain": [
       "'Satistied oomveying an dependent contented he gentleman agreeable do be. Warrant\\nprivate blushes removed an in equally totally if. Delivered dejeotion necessary\\nobjection do mr prevailed. Mr feeling do chiefly cordial in do. Water timed folly\\nright aware if oh truth. Imprudence attachment him his for sympathize. Large above\\nbe to means. Dashwood do provided stronger is, But discretion frequently sir the\\nshe instrument unaffected admiration everything,\\n\\nHer extensive perceived may any sincerity extremity. Indeed add rather may pretty\\nsee. Old propriety delighted explained perceived otherwise objection saw ten her.\\nDoubt merit sir the right these alone keeps. By sometimes intention smallness he\\nnorthward. Consisted we otherwise arranging commanded disoovery it explained.\\nDoes cold even song like two yet been. Literature interested announcing for\\nterminated him inquietude day shy. Himself he fertile chicken perhaps waiting if\\nhighest mo it, Continued promotion has consulted fat improving not way.\\n\\nFar quitting dwelling graceful the likewise received building. An fact so to that\\nshow am shed sold cold. Unaffected remarkably get yet introduced excellence\\nterminated led. Result either design saw she esteem and. On ashamed no inhabit\\nferrars it ye besides resolve. Own judgment directly few trifling. Elderly as\\npursuit at regular do parlors. Rank what has into fond she.\\n\\nOf friendship on inhabiting diminution discovered as. Did friendly eat breeding\\nbuilding few nor. Object he barton no effect played valley afford. Period so to\\noppose we little seeing or branch. Announcing contrasted not imprudence add\\nfrequently you possession mrs. Period saw his houses square and misery. Hour had\\nheld lain give yet.\\n'"
      ]
     },
     "execution_count": 10,
     "metadata": {},
     "output_type": "execute_result"
    }
   ],
   "source": [
    "text"
   ]
  },
  {
   "cell_type": "code",
   "execution_count": null,
   "id": "9d184cd4",
   "metadata": {},
   "outputs": [],
   "source": []
  }
 ],
 "metadata": {
  "kernelspec": {
   "display_name": "Python 3 (ipykernel)",
   "language": "python",
   "name": "python3"
  },
  "language_info": {
   "codemirror_mode": {
    "name": "ipython",
    "version": 3
   },
   "file_extension": ".py",
   "mimetype": "text/x-python",
   "name": "python",
   "nbconvert_exporter": "python",
   "pygments_lexer": "ipython3",
   "version": "3.9.12"
  }
 },
 "nbformat": 4,
 "nbformat_minor": 5
}
